{
  "cells": [
    {
      "cell_type": "code",
      "execution_count": null,
      "metadata": {},
      "outputs": [],
      "source": [
        "!pip install pygame\n",
        "!pip install rich"
      ]
    },
    {
      "cell_type": "code",
      "execution_count": 3,
      "metadata": {
        "id": "UzjVC15oK-Tg"
      },
      "outputs": [],
      "source": [
        "from IPython.display import Audio, display\n",
        "from random import choice\n",
        "import pygame\n",
        "import time\n",
        "from rich import print\n",
        "from rich.console import Console\n",
        "from rich.panel import Panel\n",
        "\n",
        "\n",
        "# define rooms and items\n",
        "door_a = {\n",
        "    \"name\": \"door a\",\n",
        "    \"type\": \"door\",\n",
        "}\n",
        "\n",
        "door_b = {\n",
        "    \"name\": \"door b\",\n",
        "    \"type\": \"door\"\n",
        "}\n",
        "\n",
        "door_c = {\n",
        "    \"name\": \"door c\",\n",
        "    \"type\": \"door\"\n",
        "}\n",
        "\n",
        "door_d = {\n",
        "    \"name\": \"door d\",\n",
        "    \"type\": \"door\"\n",
        "}\n",
        "\n",
        "key_a = {\n",
        "    \"name\": \"key for door a\",\n",
        "    \"type\": \"key\",\n",
        "    \"target\": door_a,\n",
        "}\n",
        "\n",
        "key_b = {\n",
        "    \"name\": \"key for door b\",\n",
        "    \"type\": \"key\",\n",
        "    \"target\": door_b\n",
        "\n",
        "}\n",
        "\n",
        "key_c = {\n",
        "    \"name\": \"key for door c\",\n",
        "    \"type\": \"key\",\n",
        "    \"target\": door_c\n",
        "\n",
        "}\n",
        "\n",
        "key_d = {\n",
        "    \"name\": \"key for door d\",\n",
        "    \"type\": \"key\",\n",
        "    \"target\": door_d\n",
        "\n",
        "}\n",
        "\n",
        "couch = {\n",
        "    \"name\": \"couch\",\n",
        "    \"type\": \"furniture\",\n",
        "}\n",
        "\n",
        "piano = {\n",
        "    \"name\": \"piano\",\n",
        "    \"type\": \"furniture\",\n",
        "}\n",
        "\n",
        "queen_bed = {\n",
        "    \"name\": \"queen bed\",\n",
        "    \"type\": \"furniture\"\n",
        "}\n",
        "\n",
        "double_bed = {\n",
        "    \"name\": \"double bed\",\n",
        "    \"type\": \"furniture\"\n",
        "}\n",
        "\n",
        "dresser = {\n",
        "    \"name\": \"dresser\",\n",
        "    \"type\": \"furniture\"\n",
        "}\n",
        "\n",
        "dining_table = {\n",
        "    \"name\": \"dining table\",\n",
        "    \"type\": \"furniture\"\n",
        "}\n",
        "\n",
        "game_room = {\n",
        "    \"name\": \"game room\",\n",
        "    \"type\": \"room\",\n",
        "}\n",
        "\n",
        "bedroom_1 = {\n",
        "    \"name\": \"bedroom 1\",\n",
        "    \"type\": \"room\"\n",
        "}\n",
        "\n",
        "bedroom_2 = {\n",
        "    \"name\": \"bedroom 2\",\n",
        "    \"type\": \"room\"\n",
        "}\n",
        "\n",
        "living_room = {\n",
        "    \"name\": \"living room\",\n",
        "    \"type\": \"room\"\n",
        "}\n",
        "\n",
        "outside = {\n",
        "  \"name\": \"outside\"\n",
        "}\n",
        "\n",
        "all_rooms = [game_room, bedroom_1, bedroom_2, living_room, outside]\n",
        "\n",
        "all_doors = [door_a,door_b,door_c, door_d]\n",
        "\n",
        "# define which items/rooms are related\n",
        "\n",
        "object_relations = {\n",
        "    \"game room\": [couch, piano, door_a],\n",
        "    \"bedroom 1\": [queen_bed,door_a,door_b,door_c],\n",
        "    \"bedroom 2\": [door_b,double_bed,dresser],\n",
        "    \"living room\": [dining_table,door_d,door_c],\n",
        "    \"piano\": [key_a],\n",
        "    \"queen bed\": [key_b],\n",
        "    \"double bed\": [key_c],\n",
        "    \"dresser\": [key_d],\n",
        "    \"outside\": [door_d],\n",
        "    \"door a\": [game_room, bedroom_1],\n",
        "    \"door b\": [bedroom_2,bedroom_1],\n",
        "    \"door c\": [living_room, bedroom_1],\n",
        "    \"door d\": [living_room,outside]\n",
        "}\n",
        "\n",
        "# define game state. Do not directly change this dict.\n",
        "# Instead, when a new game starts, make a copy of this\n",
        "# dict and use the copy to store gameplay state. This\n",
        "# way you can replay the game multiple times.\n",
        "\n",
        "INIT_GAME_STATE = {\n",
        "    \"current_room\": game_room,\n",
        "    \"keys_collected\": [],\n",
        "    \"target_room\": outside\n",
        "}"
      ]
    },
    {
      "cell_type": "code",
      "execution_count": 4,
      "metadata": {
        "colab": {
          "base_uri": "https://localhost:8080/",
          "height": 90
        },
        "id": "T8SLEt12K-Tl",
        "outputId": "ac39b760-eec7-4d08-8551-62c7483f043a"
      },
      "outputs": [
        {
          "data": {
            "text/plain": [
              "'\\n###NEW CODE ############\\n    if(next_room):\\n      yes_no_input = input(\"Do you want to go to the next room? Enter \\'yes\\' or \\'no\\'\").strip()\\n      while True:\\n          try:\\n              yes_no_object = User_input(yes_no_input)\\n              if yes_no_object.intended_action == \"yes\":\\n                  play_room(next_room)\\n                  break\\n              elif yes_no_object.intended_action == \"no\":\\n                  print(\"You’ll stay in the current room\")\\n                  play_room(current_room)\\n                  break\\n          except UserError:\\n              print(f\"{UserError}: you have to type yes or no\")\\n              yes_no_input = input(\"Enet yes or no: \").strip()\\n\\n\\n'"
            ]
          },
          "execution_count": 4,
          "metadata": {},
          "output_type": "execute_result"
        }
      ],
      "source": [
        "\n",
        "pygame.mixer.init()\n",
        "\n",
        "console = Console()\n",
        "\n",
        "def play_music(path, loop=False):\n",
        "    pygame.mixer.music.stop()\n",
        "    pygame.mixer.music.load(path)\n",
        "    pygame.mixer.music.play(-1 if loop else 0)\n",
        "\n",
        "def stop_music():\n",
        "    pygame.mixer.music.stop()\n",
        "\n",
        "\n",
        "class UserError(Exception):\n",
        "    pass\n",
        "\n",
        "class User_input:\n",
        "    def __init__(self, intended_action):\n",
        "        self.intended_action = intended_action.strip()\n",
        "        if intended_action not in [\"explore\", \"examine\", \"head\", \"tail\", \"yes\", \"no\"]:\n",
        "            raise UserError\n",
        "\n",
        "def linebreak():\n",
        "    console.rule(\"[green]Room Transition[/green]\")\n",
        "\n",
        "def start_game():\n",
        "    play_music(\"caves-of-dawn-10376.mp3\", loop=True)\n",
        "    console.print(Panel.fit(\"ESCAPE ROOM\", style=\"bold white on red\", title=\"Game Start\"))\n",
        "    console.print(\"[bold magenta]You wake up on a couch and find yourself in a strange house with no windows which you have never been to before. You don't remember why you are here and what had happened before. You feel some unknown danger is approaching and you must get out of the house, NOW![/bold magenta]\")\n",
        "    play_room(game_state[\"current_room\"])\n",
        "\n",
        "def play_room(room):\n",
        "    game_state[\"current_room\"] = room\n",
        "\n",
        "    if game_state[\"current_room\"] == game_state[\"target_room\"]:\n",
        "        stop_music()\n",
        "        play_music(\"dooropened-103851.mp3\")\n",
        "        console.print(\"[bold green]Congrats! You escaped the room![/bold green]\")\n",
        "    else:\n",
        "        console.print(\"[cyan]You are now in[/cyan] \" + room[\"name\"])\n",
        "        intended_action = input(\"What would you like to do? Type 'explore' or 'examine'? \").strip()\n",
        "\n",
        "        try:\n",
        "            action = User_input(intended_action)\n",
        "            if action.intended_action == \"explore\":\n",
        "                explore_room(room)\n",
        "                play_room(room)\n",
        "            elif action.intended_action == \"examine\":\n",
        "                examine_item(input(\"What would you like to examine? \").strip())\n",
        "        except UserError:\n",
        "            console.print(f\"[bold red]{UserError}: you have to type examine or explore[/bold red]\")\n",
        "            play_room(room)\n",
        "\n",
        "        linebreak()\n",
        "\n",
        "def explore_room(room):\n",
        "    items = [i[\"name\"] for i in object_relations[room[\"name\"]]]\n",
        "    console.print(\"[yellow]You explore the room. This is[/yellow] \" + room[\"name\"] + \". [yellow]You find[/yellow] \" + \", \".join(items))\n",
        "\n",
        "def get_next_room_of_door(door, current_room):\n",
        "    connected_rooms = object_relations[door[\"name\"]]\n",
        "    for room in connected_rooms:\n",
        "        if not current_room == room:\n",
        "            return room\n",
        "\n",
        "def examine_item(item_name):\n",
        "    current_room = game_state[\"current_room\"]\n",
        "    next_room = \"\"\n",
        "    output = None\n",
        "\n",
        "    for item in object_relations[current_room[\"name\"]]:\n",
        "        if item[\"name\"] == item_name:\n",
        "            output = \"[bold]You examine \" + item_name + \".[/bold] \"\n",
        "            if item[\"type\"] == \"door\":\n",
        "                have_key = any(key[\"target\"] == item for key in game_state[\"keys_collected\"])\n",
        "                if have_key:\n",
        "                    console.print(\"[green]To get to the next room, you must win in heads or tails.[/green]\")\n",
        "                    output += \" You unlock the door.\"\n",
        "\n",
        "                    while True:\n",
        "                        user_choice = input(\"What do you choose? head or tail \").strip()\n",
        "                        try:\n",
        "                            u_choice = User_input(user_choice)\n",
        "                            if u_choice.intended_action in [\"head\", \"tail\"]:\n",
        "                                side_coin = choice([\"head\", \"tail\"])\n",
        "                                if u_choice.intended_action == side_coin:\n",
        "                                    console.print(\"[bold yellow]Congratulations! It was \" + side_coin + \"[/bold yellow]\")\n",
        "                                    stop_music()\n",
        "                                    play_music(\"dooropened-103851.mp3\")\n",
        "                                    time.sleep(2)\n",
        "                                    play_music(\"caves-of-dawn-10376.mp3\", loop=True)\n",
        "                                    next_room = get_next_room_of_door(item, current_room)\n",
        "                                    break\n",
        "                                else:\n",
        "                                    console.print(\"[red]Sorry! It was \" + side_coin + \"[/red]\")\n",
        "                                    console.print(\"Try again, choose between head or tail.\")\n",
        "                            else:\n",
        "                                console.print(\"[red]Invalid input. Try again.[/red]\")\n",
        "                        except UserError:\n",
        "                            console.print(f\"[red]{UserError}: You have to choose between head or tail.[/red]\")\n",
        "                else:\n",
        "                    output += \"[yellow]It is locked but you don't have the key.[/yellow]\"\n",
        "            else:\n",
        "                if item[\"name\"] in object_relations and len(object_relations[item[\"name\"]]) > 0:\n",
        "                    item_found = object_relations[item[\"name\"]].pop()\n",
        "                    game_state[\"keys_collected\"].append(item_found)\n",
        "                    stop_music()\n",
        "                    play_music(\"llaveskeys-338166.mp3\")\n",
        "                    time.sleep(2)\n",
        "                    play_music(\"caves-of-dawn-10376.mp3\", loop=True)\n",
        "                    output += \"[green]You find \" + item_found[\"name\"] + \".[/green]\"\n",
        "                else:\n",
        "                    output += \"There isn't anything interesting about it.\"\n",
        "            console.print(output)\n",
        "            break\n",
        "\n",
        "    if output is None:\n",
        "        console.print(\"[red]The item you requested is not found in the current room.[/red]\")\n",
        "\n",
        "    if next_room and input(\"Do you want to go to the next room? Enter 'yes' or 'no': \").strip() == 'yes':\n",
        "        play_room(next_room)\n",
        "    else:\n",
        "        play_room(current_room)\n",
        "\n",
        "\n",
        "\n",
        "\"\"\"\n",
        "###NEW CODE ############\n",
        "    if(next_room):\n",
        "      yes_no_input = input(\"Do you want to go to the next room? Enter 'yes' or 'no'\").strip()\n",
        "      while True:\n",
        "          try:\n",
        "              yes_no_object = User_input(yes_no_input)\n",
        "              if yes_no_object.intended_action == \"yes\":\n",
        "                  play_room(next_room)\n",
        "                  break\n",
        "              elif yes_no_object.intended_action == \"no\":\n",
        "                  print(\"You’ll stay in the current room\")\n",
        "                  play_room(current_room)\n",
        "                  break\n",
        "          except UserError:\n",
        "              print(f\"{UserError}: you have to type yes or no\")\n",
        "              yes_no_input = input(\"Enet yes or no: \").strip()\n",
        "\n",
        "\n",
        "\"\"\""
      ]
    },
    {
      "cell_type": "code",
      "execution_count": 5,
      "metadata": {
        "colab": {
          "base_uri": "https://localhost:8080/",
          "height": 468
        },
        "id": "JC1B319HK-Tl",
        "outputId": "3c02071a-882f-4778-b5d8-17f3cbfb46a9"
      },
      "outputs": [
        {
          "data": {
            "text/html": [
              "<pre style=\"white-space:pre;overflow-x:auto;line-height:normal;font-family:Menlo,'DejaVu Sans Mono',consolas,'Courier New',monospace\"><span style=\"color: #c0c0c0; text-decoration-color: #c0c0c0; background-color: #800000; font-weight: bold\">╭─</span> Game Start <span style=\"color: #c0c0c0; text-decoration-color: #c0c0c0; background-color: #800000; font-weight: bold\">─╮</span>\n",
              "<span style=\"color: #c0c0c0; text-decoration-color: #c0c0c0; background-color: #800000; font-weight: bold\">│ ESCAPE ROOM  │</span>\n",
              "<span style=\"color: #c0c0c0; text-decoration-color: #c0c0c0; background-color: #800000; font-weight: bold\">╰──────────────╯</span>\n",
              "</pre>\n"
            ],
            "text/plain": [
              "\u001b[1;37;41m╭─\u001b[0m Game Start \u001b[1;37;41m─╮\u001b[0m\n",
              "\u001b[1;37;41m│\u001b[0m\u001b[1;37;41m \u001b[0m\u001b[1;37;41mESCAPE ROOM\u001b[0m\u001b[1;37;41m \u001b[0m\u001b[1;37;41m \u001b[0m\u001b[1;37;41m│\u001b[0m\n",
              "\u001b[1;37;41m╰──────────────╯\u001b[0m\n"
            ]
          },
          "metadata": {},
          "output_type": "display_data"
        },
        {
          "data": {
            "text/html": [
              "<pre style=\"white-space:pre;overflow-x:auto;line-height:normal;font-family:Menlo,'DejaVu Sans Mono',consolas,'Courier New',monospace\"><span style=\"color: #800080; text-decoration-color: #800080; font-weight: bold\">You wake up on a couch and find yourself in a strange house with no windows which you have never been to before. </span>\n",
              "<span style=\"color: #800080; text-decoration-color: #800080; font-weight: bold\">You don't remember why you are here and what had happened before. You feel some unknown danger is approaching and </span>\n",
              "<span style=\"color: #800080; text-decoration-color: #800080; font-weight: bold\">you must get out of the house, NOW!</span>\n",
              "</pre>\n"
            ],
            "text/plain": [
              "\u001b[1;35mYou wake up on a couch and find yourself in a strange house with no windows which you have never been to before. \u001b[0m\n",
              "\u001b[1;35mYou don't remember why you are here and what had happened before. You feel some unknown danger is approaching and \u001b[0m\n",
              "\u001b[1;35myou must get out of the house, NOW!\u001b[0m\n"
            ]
          },
          "metadata": {},
          "output_type": "display_data"
        },
        {
          "data": {
            "text/html": [
              "<pre style=\"white-space:pre;overflow-x:auto;line-height:normal;font-family:Menlo,'DejaVu Sans Mono',consolas,'Courier New',monospace\"><span style=\"color: #008080; text-decoration-color: #008080\">You are now in</span> game room\n",
              "</pre>\n"
            ],
            "text/plain": [
              "\u001b[36mYou are now in\u001b[0m game room\n"
            ]
          },
          "metadata": {},
          "output_type": "display_data"
        },
        {
          "data": {
            "text/html": [
              "<pre style=\"white-space:pre;overflow-x:auto;line-height:normal;font-family:Menlo,'DejaVu Sans Mono',consolas,'Courier New',monospace\"><span style=\"color: #808000; text-decoration-color: #808000\">You explore the room. This is</span> game room. <span style=\"color: #808000; text-decoration-color: #808000\">You find</span> couch, piano, door a\n",
              "</pre>\n"
            ],
            "text/plain": [
              "\u001b[33mYou explore the room. This is\u001b[0m game room. \u001b[33mYou find\u001b[0m couch, piano, door a\n"
            ]
          },
          "metadata": {},
          "output_type": "display_data"
        },
        {
          "data": {
            "text/html": [
              "<pre style=\"white-space:pre;overflow-x:auto;line-height:normal;font-family:Menlo,'DejaVu Sans Mono',consolas,'Courier New',monospace\"><span style=\"color: #008080; text-decoration-color: #008080\">You are now in</span> game room\n",
              "</pre>\n"
            ],
            "text/plain": [
              "\u001b[36mYou are now in\u001b[0m game room\n"
            ]
          },
          "metadata": {},
          "output_type": "display_data"
        },
        {
          "data": {
            "text/html": [
              "<pre style=\"white-space:pre;overflow-x:auto;line-height:normal;font-family:Menlo,'DejaVu Sans Mono',consolas,'Courier New',monospace\"><span style=\"font-weight: bold\">You examine piano.</span> <span style=\"color: #008000; text-decoration-color: #008000\">You find key for door a.</span>\n",
              "</pre>\n"
            ],
            "text/plain": [
              "\u001b[1mYou examine piano.\u001b[0m \u001b[32mYou find key for door a.\u001b[0m\n"
            ]
          },
          "metadata": {},
          "output_type": "display_data"
        },
        {
          "data": {
            "text/html": [
              "<pre style=\"white-space:pre;overflow-x:auto;line-height:normal;font-family:Menlo,'DejaVu Sans Mono',consolas,'Courier New',monospace\"><span style=\"color: #008080; text-decoration-color: #008080\">You are now in</span> game room\n",
              "</pre>\n"
            ],
            "text/plain": [
              "\u001b[36mYou are now in\u001b[0m game room\n"
            ]
          },
          "metadata": {},
          "output_type": "display_data"
        },
        {
          "data": {
            "text/html": [
              "<pre style=\"white-space:pre;overflow-x:auto;line-height:normal;font-family:Menlo,'DejaVu Sans Mono',consolas,'Courier New',monospace\"><span style=\"color: #808000; text-decoration-color: #808000\">You explore the room. This is</span> game room. <span style=\"color: #808000; text-decoration-color: #808000\">You find</span> couch, piano, door a\n",
              "</pre>\n"
            ],
            "text/plain": [
              "\u001b[33mYou explore the room. This is\u001b[0m game room. \u001b[33mYou find\u001b[0m couch, piano, door a\n"
            ]
          },
          "metadata": {},
          "output_type": "display_data"
        },
        {
          "data": {
            "text/html": [
              "<pre style=\"white-space:pre;overflow-x:auto;line-height:normal;font-family:Menlo,'DejaVu Sans Mono',consolas,'Courier New',monospace\"><span style=\"color: #008080; text-decoration-color: #008080\">You are now in</span> game room\n",
              "</pre>\n"
            ],
            "text/plain": [
              "\u001b[36mYou are now in\u001b[0m game room\n"
            ]
          },
          "metadata": {},
          "output_type": "display_data"
        },
        {
          "data": {
            "text/html": [
              "<pre style=\"white-space:pre;overflow-x:auto;line-height:normal;font-family:Menlo,'DejaVu Sans Mono',consolas,'Courier New',monospace\"><span style=\"color: #800000; text-decoration-color: #800000\">The item you requested is not found in the current room.</span>\n",
              "</pre>\n"
            ],
            "text/plain": [
              "\u001b[31mThe item you requested is not found in the current room.\u001b[0m\n"
            ]
          },
          "metadata": {},
          "output_type": "display_data"
        },
        {
          "data": {
            "text/html": [
              "<pre style=\"white-space:pre;overflow-x:auto;line-height:normal;font-family:Menlo,'DejaVu Sans Mono',consolas,'Courier New',monospace\"><span style=\"color: #008080; text-decoration-color: #008080\">You are now in</span> game room\n",
              "</pre>\n"
            ],
            "text/plain": [
              "\u001b[36mYou are now in\u001b[0m game room\n"
            ]
          },
          "metadata": {},
          "output_type": "display_data"
        },
        {
          "data": {
            "text/html": [
              "<pre style=\"white-space:pre;overflow-x:auto;line-height:normal;font-family:Menlo,'DejaVu Sans Mono',consolas,'Courier New',monospace\"><span style=\"color: #008000; text-decoration-color: #008000\">To get to the next room, you must win in heads or tails.</span>\n",
              "</pre>\n"
            ],
            "text/plain": [
              "\u001b[32mTo get to the next room, you must win in heads or tails.\u001b[0m\n"
            ]
          },
          "metadata": {},
          "output_type": "display_data"
        },
        {
          "data": {
            "text/html": [
              "<pre style=\"white-space:pre;overflow-x:auto;line-height:normal;font-family:Menlo,'DejaVu Sans Mono',consolas,'Courier New',monospace\"><span style=\"color: #800000; text-decoration-color: #800000\">Sorry! It was tail</span>\n",
              "</pre>\n"
            ],
            "text/plain": [
              "\u001b[31mSorry! It was tail\u001b[0m\n"
            ]
          },
          "metadata": {},
          "output_type": "display_data"
        },
        {
          "data": {
            "text/html": [
              "<pre style=\"white-space:pre;overflow-x:auto;line-height:normal;font-family:Menlo,'DejaVu Sans Mono',consolas,'Courier New',monospace\">Try again, choose between head or tail.\n",
              "</pre>\n"
            ],
            "text/plain": [
              "Try again, choose between head or tail.\n"
            ]
          },
          "metadata": {},
          "output_type": "display_data"
        },
        {
          "data": {
            "text/html": [
              "<pre style=\"white-space:pre;overflow-x:auto;line-height:normal;font-family:Menlo,'DejaVu Sans Mono',consolas,'Courier New',monospace\"><span style=\"color: #808000; text-decoration-color: #808000; font-weight: bold\">Congratulations! It was tail</span>\n",
              "</pre>\n"
            ],
            "text/plain": [
              "\u001b[1;33mCongratulations! It was tail\u001b[0m\n"
            ]
          },
          "metadata": {},
          "output_type": "display_data"
        },
        {
          "data": {
            "text/html": [
              "<pre style=\"white-space:pre;overflow-x:auto;line-height:normal;font-family:Menlo,'DejaVu Sans Mono',consolas,'Courier New',monospace\"><span style=\"font-weight: bold\">You examine door a.</span>  You unlock the door.\n",
              "</pre>\n"
            ],
            "text/plain": [
              "\u001b[1mYou examine door a.\u001b[0m  You unlock the door.\n"
            ]
          },
          "metadata": {},
          "output_type": "display_data"
        },
        {
          "data": {
            "text/html": [
              "<pre style=\"white-space:pre;overflow-x:auto;line-height:normal;font-family:Menlo,'DejaVu Sans Mono',consolas,'Courier New',monospace\"><span style=\"color: #008080; text-decoration-color: #008080\">You are now in</span> bedroom <span style=\"color: #008080; text-decoration-color: #008080; font-weight: bold\">1</span>\n",
              "</pre>\n"
            ],
            "text/plain": [
              "\u001b[36mYou are now in\u001b[0m bedroom \u001b[1;36m1\u001b[0m\n"
            ]
          },
          "metadata": {},
          "output_type": "display_data"
        },
        {
          "data": {
            "text/html": [
              "<pre style=\"white-space:pre;overflow-x:auto;line-height:normal;font-family:Menlo,'DejaVu Sans Mono',consolas,'Courier New',monospace\"><span style=\"color: #808000; text-decoration-color: #808000\">You explore the room. This is</span> bedroom <span style=\"color: #008080; text-decoration-color: #008080; font-weight: bold\">1</span>. <span style=\"color: #808000; text-decoration-color: #808000\">You find</span> queen bed, door a, door b, door c\n",
              "</pre>\n"
            ],
            "text/plain": [
              "\u001b[33mYou explore the room. This is\u001b[0m bedroom \u001b[1;36m1\u001b[0m. \u001b[33mYou find\u001b[0m queen bed, door a, door b, door c\n"
            ]
          },
          "metadata": {},
          "output_type": "display_data"
        },
        {
          "data": {
            "text/html": [
              "<pre style=\"white-space:pre;overflow-x:auto;line-height:normal;font-family:Menlo,'DejaVu Sans Mono',consolas,'Courier New',monospace\"><span style=\"color: #008080; text-decoration-color: #008080\">You are now in</span> bedroom <span style=\"color: #008080; text-decoration-color: #008080; font-weight: bold\">1</span>\n",
              "</pre>\n"
            ],
            "text/plain": [
              "\u001b[36mYou are now in\u001b[0m bedroom \u001b[1;36m1\u001b[0m\n"
            ]
          },
          "metadata": {},
          "output_type": "display_data"
        },
        {
          "data": {
            "text/html": [
              "<pre style=\"white-space:pre;overflow-x:auto;line-height:normal;font-family:Menlo,'DejaVu Sans Mono',consolas,'Courier New',monospace\"><span style=\"font-weight: bold\">You examine queen bed.</span> <span style=\"color: #008000; text-decoration-color: #008000\">You find key for door b.</span>\n",
              "</pre>\n"
            ],
            "text/plain": [
              "\u001b[1mYou examine queen bed.\u001b[0m \u001b[32mYou find key for door b.\u001b[0m\n"
            ]
          },
          "metadata": {},
          "output_type": "display_data"
        },
        {
          "data": {
            "text/html": [
              "<pre style=\"white-space:pre;overflow-x:auto;line-height:normal;font-family:Menlo,'DejaVu Sans Mono',consolas,'Courier New',monospace\"><span style=\"color: #008080; text-decoration-color: #008080\">You are now in</span> bedroom <span style=\"color: #008080; text-decoration-color: #008080; font-weight: bold\">1</span>\n",
              "</pre>\n"
            ],
            "text/plain": [
              "\u001b[36mYou are now in\u001b[0m bedroom \u001b[1;36m1\u001b[0m\n"
            ]
          },
          "metadata": {},
          "output_type": "display_data"
        },
        {
          "data": {
            "text/html": [
              "<pre style=\"white-space:pre;overflow-x:auto;line-height:normal;font-family:Menlo,'DejaVu Sans Mono',consolas,'Courier New',monospace\"><span style=\"color: #008000; text-decoration-color: #008000\">To get to the next room, you must win in heads or tails.</span>\n",
              "</pre>\n"
            ],
            "text/plain": [
              "\u001b[32mTo get to the next room, you must win in heads or tails.\u001b[0m\n"
            ]
          },
          "metadata": {},
          "output_type": "display_data"
        },
        {
          "data": {
            "text/html": [
              "<pre style=\"white-space:pre;overflow-x:auto;line-height:normal;font-family:Menlo,'DejaVu Sans Mono',consolas,'Courier New',monospace\"><span style=\"color: #808000; text-decoration-color: #808000; font-weight: bold\">Congratulations! It was tail</span>\n",
              "</pre>\n"
            ],
            "text/plain": [
              "\u001b[1;33mCongratulations! It was tail\u001b[0m\n"
            ]
          },
          "metadata": {},
          "output_type": "display_data"
        },
        {
          "data": {
            "text/html": [
              "<pre style=\"white-space:pre;overflow-x:auto;line-height:normal;font-family:Menlo,'DejaVu Sans Mono',consolas,'Courier New',monospace\"><span style=\"font-weight: bold\">You examine door b.</span>  You unlock the door.\n",
              "</pre>\n"
            ],
            "text/plain": [
              "\u001b[1mYou examine door b.\u001b[0m  You unlock the door.\n"
            ]
          },
          "metadata": {},
          "output_type": "display_data"
        },
        {
          "data": {
            "text/html": [
              "<pre style=\"white-space:pre;overflow-x:auto;line-height:normal;font-family:Menlo,'DejaVu Sans Mono',consolas,'Courier New',monospace\"><span style=\"color: #008080; text-decoration-color: #008080\">You are now in</span> bedroom <span style=\"color: #008080; text-decoration-color: #008080; font-weight: bold\">2</span>\n",
              "</pre>\n"
            ],
            "text/plain": [
              "\u001b[36mYou are now in\u001b[0m bedroom \u001b[1;36m2\u001b[0m\n"
            ]
          },
          "metadata": {},
          "output_type": "display_data"
        },
        {
          "data": {
            "text/html": [
              "<pre style=\"white-space:pre;overflow-x:auto;line-height:normal;font-family:Menlo,'DejaVu Sans Mono',consolas,'Courier New',monospace\"><span style=\"color: #808000; text-decoration-color: #808000\">You explore the room. This is</span> bedroom <span style=\"color: #008080; text-decoration-color: #008080; font-weight: bold\">2</span>. <span style=\"color: #808000; text-decoration-color: #808000\">You find</span> door b, double bed, dresser\n",
              "</pre>\n"
            ],
            "text/plain": [
              "\u001b[33mYou explore the room. This is\u001b[0m bedroom \u001b[1;36m2\u001b[0m. \u001b[33mYou find\u001b[0m door b, double bed, dresser\n"
            ]
          },
          "metadata": {},
          "output_type": "display_data"
        },
        {
          "data": {
            "text/html": [
              "<pre style=\"white-space:pre;overflow-x:auto;line-height:normal;font-family:Menlo,'DejaVu Sans Mono',consolas,'Courier New',monospace\"><span style=\"color: #008080; text-decoration-color: #008080\">You are now in</span> bedroom <span style=\"color: #008080; text-decoration-color: #008080; font-weight: bold\">2</span>\n",
              "</pre>\n"
            ],
            "text/plain": [
              "\u001b[36mYou are now in\u001b[0m bedroom \u001b[1;36m2\u001b[0m\n"
            ]
          },
          "metadata": {},
          "output_type": "display_data"
        },
        {
          "data": {
            "text/html": [
              "<pre style=\"white-space:pre;overflow-x:auto;line-height:normal;font-family:Menlo,'DejaVu Sans Mono',consolas,'Courier New',monospace\"><span style=\"font-weight: bold\">You examine double bed.</span> <span style=\"color: #008000; text-decoration-color: #008000\">You find key for door c.</span>\n",
              "</pre>\n"
            ],
            "text/plain": [
              "\u001b[1mYou examine double bed.\u001b[0m \u001b[32mYou find key for door c.\u001b[0m\n"
            ]
          },
          "metadata": {},
          "output_type": "display_data"
        },
        {
          "data": {
            "text/html": [
              "<pre style=\"white-space:pre;overflow-x:auto;line-height:normal;font-family:Menlo,'DejaVu Sans Mono',consolas,'Courier New',monospace\"><span style=\"color: #008080; text-decoration-color: #008080\">You are now in</span> bedroom <span style=\"color: #008080; text-decoration-color: #008080; font-weight: bold\">2</span>\n",
              "</pre>\n"
            ],
            "text/plain": [
              "\u001b[36mYou are now in\u001b[0m bedroom \u001b[1;36m2\u001b[0m\n"
            ]
          },
          "metadata": {},
          "output_type": "display_data"
        },
        {
          "data": {
            "text/html": [
              "<pre style=\"white-space:pre;overflow-x:auto;line-height:normal;font-family:Menlo,'DejaVu Sans Mono',consolas,'Courier New',monospace\"><span style=\"font-weight: bold\">You examine dresser.</span> <span style=\"color: #008000; text-decoration-color: #008000\">You find key for door d.</span>\n",
              "</pre>\n"
            ],
            "text/plain": [
              "\u001b[1mYou examine dresser.\u001b[0m \u001b[32mYou find key for door d.\u001b[0m\n"
            ]
          },
          "metadata": {},
          "output_type": "display_data"
        },
        {
          "data": {
            "text/html": [
              "<pre style=\"white-space:pre;overflow-x:auto;line-height:normal;font-family:Menlo,'DejaVu Sans Mono',consolas,'Courier New',monospace\"><span style=\"color: #008080; text-decoration-color: #008080\">You are now in</span> bedroom <span style=\"color: #008080; text-decoration-color: #008080; font-weight: bold\">2</span>\n",
              "</pre>\n"
            ],
            "text/plain": [
              "\u001b[36mYou are now in\u001b[0m bedroom \u001b[1;36m2\u001b[0m\n"
            ]
          },
          "metadata": {},
          "output_type": "display_data"
        },
        {
          "data": {
            "text/html": [
              "<pre style=\"white-space:pre;overflow-x:auto;line-height:normal;font-family:Menlo,'DejaVu Sans Mono',consolas,'Courier New',monospace\"><span style=\"color: #008000; text-decoration-color: #008000\">To get to the next room, you must win in heads or tails.</span>\n",
              "</pre>\n"
            ],
            "text/plain": [
              "\u001b[32mTo get to the next room, you must win in heads or tails.\u001b[0m\n"
            ]
          },
          "metadata": {},
          "output_type": "display_data"
        },
        {
          "data": {
            "text/html": [
              "<pre style=\"white-space:pre;overflow-x:auto;line-height:normal;font-family:Menlo,'DejaVu Sans Mono',consolas,'Courier New',monospace\"><span style=\"color: #808000; text-decoration-color: #808000; font-weight: bold\">Congratulations! It was tail</span>\n",
              "</pre>\n"
            ],
            "text/plain": [
              "\u001b[1;33mCongratulations! It was tail\u001b[0m\n"
            ]
          },
          "metadata": {},
          "output_type": "display_data"
        },
        {
          "data": {
            "text/html": [
              "<pre style=\"white-space:pre;overflow-x:auto;line-height:normal;font-family:Menlo,'DejaVu Sans Mono',consolas,'Courier New',monospace\"><span style=\"font-weight: bold\">You examine door b.</span>  You unlock the door.\n",
              "</pre>\n"
            ],
            "text/plain": [
              "\u001b[1mYou examine door b.\u001b[0m  You unlock the door.\n"
            ]
          },
          "metadata": {},
          "output_type": "display_data"
        },
        {
          "data": {
            "text/html": [
              "<pre style=\"white-space:pre;overflow-x:auto;line-height:normal;font-family:Menlo,'DejaVu Sans Mono',consolas,'Courier New',monospace\"><span style=\"color: #008080; text-decoration-color: #008080\">You are now in</span> bedroom <span style=\"color: #008080; text-decoration-color: #008080; font-weight: bold\">1</span>\n",
              "</pre>\n"
            ],
            "text/plain": [
              "\u001b[36mYou are now in\u001b[0m bedroom \u001b[1;36m1\u001b[0m\n"
            ]
          },
          "metadata": {},
          "output_type": "display_data"
        },
        {
          "data": {
            "text/html": [
              "<pre style=\"white-space:pre;overflow-x:auto;line-height:normal;font-family:Menlo,'DejaVu Sans Mono',consolas,'Courier New',monospace\"><span style=\"color: #008000; text-decoration-color: #008000\">To get to the next room, you must win in heads or tails.</span>\n",
              "</pre>\n"
            ],
            "text/plain": [
              "\u001b[32mTo get to the next room, you must win in heads or tails.\u001b[0m\n"
            ]
          },
          "metadata": {},
          "output_type": "display_data"
        },
        {
          "data": {
            "text/html": [
              "<pre style=\"white-space:pre;overflow-x:auto;line-height:normal;font-family:Menlo,'DejaVu Sans Mono',consolas,'Courier New',monospace\"><span style=\"color: #800000; text-decoration-color: #800000\">Sorry! It was head</span>\n",
              "</pre>\n"
            ],
            "text/plain": [
              "\u001b[31mSorry! It was head\u001b[0m\n"
            ]
          },
          "metadata": {},
          "output_type": "display_data"
        },
        {
          "data": {
            "text/html": [
              "<pre style=\"white-space:pre;overflow-x:auto;line-height:normal;font-family:Menlo,'DejaVu Sans Mono',consolas,'Courier New',monospace\">Try again, choose between head or tail.\n",
              "</pre>\n"
            ],
            "text/plain": [
              "Try again, choose between head or tail.\n"
            ]
          },
          "metadata": {},
          "output_type": "display_data"
        },
        {
          "data": {
            "text/html": [
              "<pre style=\"white-space:pre;overflow-x:auto;line-height:normal;font-family:Menlo,'DejaVu Sans Mono',consolas,'Courier New',monospace\"><span style=\"color: #800000; text-decoration-color: #800000\">Sorry! It was tail</span>\n",
              "</pre>\n"
            ],
            "text/plain": [
              "\u001b[31mSorry! It was tail\u001b[0m\n"
            ]
          },
          "metadata": {},
          "output_type": "display_data"
        },
        {
          "data": {
            "text/html": [
              "<pre style=\"white-space:pre;overflow-x:auto;line-height:normal;font-family:Menlo,'DejaVu Sans Mono',consolas,'Courier New',monospace\">Try again, choose between head or tail.\n",
              "</pre>\n"
            ],
            "text/plain": [
              "Try again, choose between head or tail.\n"
            ]
          },
          "metadata": {},
          "output_type": "display_data"
        },
        {
          "data": {
            "text/html": [
              "<pre style=\"white-space:pre;overflow-x:auto;line-height:normal;font-family:Menlo,'DejaVu Sans Mono',consolas,'Courier New',monospace\"><span style=\"color: #808000; text-decoration-color: #808000; font-weight: bold\">Congratulations! It was head</span>\n",
              "</pre>\n"
            ],
            "text/plain": [
              "\u001b[1;33mCongratulations! It was head\u001b[0m\n"
            ]
          },
          "metadata": {},
          "output_type": "display_data"
        },
        {
          "data": {
            "text/html": [
              "<pre style=\"white-space:pre;overflow-x:auto;line-height:normal;font-family:Menlo,'DejaVu Sans Mono',consolas,'Courier New',monospace\"><span style=\"font-weight: bold\">You examine door c.</span>  You unlock the door.\n",
              "</pre>\n"
            ],
            "text/plain": [
              "\u001b[1mYou examine door c.\u001b[0m  You unlock the door.\n"
            ]
          },
          "metadata": {},
          "output_type": "display_data"
        },
        {
          "data": {
            "text/html": [
              "<pre style=\"white-space:pre;overflow-x:auto;line-height:normal;font-family:Menlo,'DejaVu Sans Mono',consolas,'Courier New',monospace\"><span style=\"color: #008080; text-decoration-color: #008080\">You are now in</span> living room\n",
              "</pre>\n"
            ],
            "text/plain": [
              "\u001b[36mYou are now in\u001b[0m living room\n"
            ]
          },
          "metadata": {},
          "output_type": "display_data"
        },
        {
          "data": {
            "text/html": [
              "<pre style=\"white-space:pre;overflow-x:auto;line-height:normal;font-family:Menlo,'DejaVu Sans Mono',consolas,'Courier New',monospace\"><span style=\"color: #008000; text-decoration-color: #008000\">To get to the next room, you must win in heads or tails.</span>\n",
              "</pre>\n"
            ],
            "text/plain": [
              "\u001b[32mTo get to the next room, you must win in heads or tails.\u001b[0m\n"
            ]
          },
          "metadata": {},
          "output_type": "display_data"
        },
        {
          "data": {
            "text/html": [
              "<pre style=\"white-space:pre;overflow-x:auto;line-height:normal;font-family:Menlo,'DejaVu Sans Mono',consolas,'Courier New',monospace\"><span style=\"color: #808000; text-decoration-color: #808000; font-weight: bold\">Congratulations! It was tail</span>\n",
              "</pre>\n"
            ],
            "text/plain": [
              "\u001b[1;33mCongratulations! It was tail\u001b[0m\n"
            ]
          },
          "metadata": {},
          "output_type": "display_data"
        },
        {
          "data": {
            "text/html": [
              "<pre style=\"white-space:pre;overflow-x:auto;line-height:normal;font-family:Menlo,'DejaVu Sans Mono',consolas,'Courier New',monospace\"><span style=\"font-weight: bold\">You examine door d.</span>  You unlock the door.\n",
              "</pre>\n"
            ],
            "text/plain": [
              "\u001b[1mYou examine door d.\u001b[0m  You unlock the door.\n"
            ]
          },
          "metadata": {},
          "output_type": "display_data"
        },
        {
          "data": {
            "text/html": [
              "<pre style=\"white-space:pre;overflow-x:auto;line-height:normal;font-family:Menlo,'DejaVu Sans Mono',consolas,'Courier New',monospace\"><span style=\"color: #008000; text-decoration-color: #008000; font-weight: bold\">Congrats! You escaped the room!</span>\n",
              "</pre>\n"
            ],
            "text/plain": [
              "\u001b[1;32mCongrats! You escaped the room!\u001b[0m\n"
            ]
          },
          "metadata": {},
          "output_type": "display_data"
        },
        {
          "data": {
            "text/html": [
              "<pre style=\"white-space:pre;overflow-x:auto;line-height:normal;font-family:Menlo,'DejaVu Sans Mono',consolas,'Courier New',monospace\"><span style=\"color: #00ff00; text-decoration-color: #00ff00\">───────────────────────────────────────────────── </span><span style=\"color: #008000; text-decoration-color: #008000\">Room Transition</span><span style=\"color: #00ff00; text-decoration-color: #00ff00\"> ─────────────────────────────────────────────────</span>\n",
              "</pre>\n"
            ],
            "text/plain": [
              "\u001b[92m───────────────────────────────────────────────── \u001b[0m\u001b[32mRoom Transition\u001b[0m\u001b[92m ─────────────────────────────────────────────────\u001b[0m\n"
            ]
          },
          "metadata": {},
          "output_type": "display_data"
        },
        {
          "data": {
            "text/html": [
              "<pre style=\"white-space:pre;overflow-x:auto;line-height:normal;font-family:Menlo,'DejaVu Sans Mono',consolas,'Courier New',monospace\"><span style=\"color: #00ff00; text-decoration-color: #00ff00\">───────────────────────────────────────────────── </span><span style=\"color: #008000; text-decoration-color: #008000\">Room Transition</span><span style=\"color: #00ff00; text-decoration-color: #00ff00\"> ─────────────────────────────────────────────────</span>\n",
              "</pre>\n"
            ],
            "text/plain": [
              "\u001b[92m───────────────────────────────────────────────── \u001b[0m\u001b[32mRoom Transition\u001b[0m\u001b[92m ─────────────────────────────────────────────────\u001b[0m\n"
            ]
          },
          "metadata": {},
          "output_type": "display_data"
        },
        {
          "data": {
            "text/html": [
              "<pre style=\"white-space:pre;overflow-x:auto;line-height:normal;font-family:Menlo,'DejaVu Sans Mono',consolas,'Courier New',monospace\"><span style=\"color: #00ff00; text-decoration-color: #00ff00\">───────────────────────────────────────────────── </span><span style=\"color: #008000; text-decoration-color: #008000\">Room Transition</span><span style=\"color: #00ff00; text-decoration-color: #00ff00\"> ─────────────────────────────────────────────────</span>\n",
              "</pre>\n"
            ],
            "text/plain": [
              "\u001b[92m───────────────────────────────────────────────── \u001b[0m\u001b[32mRoom Transition\u001b[0m\u001b[92m ─────────────────────────────────────────────────\u001b[0m\n"
            ]
          },
          "metadata": {},
          "output_type": "display_data"
        },
        {
          "data": {
            "text/html": [
              "<pre style=\"white-space:pre;overflow-x:auto;line-height:normal;font-family:Menlo,'DejaVu Sans Mono',consolas,'Courier New',monospace\"><span style=\"color: #00ff00; text-decoration-color: #00ff00\">───────────────────────────────────────────────── </span><span style=\"color: #008000; text-decoration-color: #008000\">Room Transition</span><span style=\"color: #00ff00; text-decoration-color: #00ff00\"> ─────────────────────────────────────────────────</span>\n",
              "</pre>\n"
            ],
            "text/plain": [
              "\u001b[92m───────────────────────────────────────────────── \u001b[0m\u001b[32mRoom Transition\u001b[0m\u001b[92m ─────────────────────────────────────────────────\u001b[0m\n"
            ]
          },
          "metadata": {},
          "output_type": "display_data"
        },
        {
          "data": {
            "text/html": [
              "<pre style=\"white-space:pre;overflow-x:auto;line-height:normal;font-family:Menlo,'DejaVu Sans Mono',consolas,'Courier New',monospace\"><span style=\"color: #00ff00; text-decoration-color: #00ff00\">───────────────────────────────────────────────── </span><span style=\"color: #008000; text-decoration-color: #008000\">Room Transition</span><span style=\"color: #00ff00; text-decoration-color: #00ff00\"> ─────────────────────────────────────────────────</span>\n",
              "</pre>\n"
            ],
            "text/plain": [
              "\u001b[92m───────────────────────────────────────────────── \u001b[0m\u001b[32mRoom Transition\u001b[0m\u001b[92m ─────────────────────────────────────────────────\u001b[0m\n"
            ]
          },
          "metadata": {},
          "output_type": "display_data"
        },
        {
          "data": {
            "text/html": [
              "<pre style=\"white-space:pre;overflow-x:auto;line-height:normal;font-family:Menlo,'DejaVu Sans Mono',consolas,'Courier New',monospace\"><span style=\"color: #00ff00; text-decoration-color: #00ff00\">───────────────────────────────────────────────── </span><span style=\"color: #008000; text-decoration-color: #008000\">Room Transition</span><span style=\"color: #00ff00; text-decoration-color: #00ff00\"> ─────────────────────────────────────────────────</span>\n",
              "</pre>\n"
            ],
            "text/plain": [
              "\u001b[92m───────────────────────────────────────────────── \u001b[0m\u001b[32mRoom Transition\u001b[0m\u001b[92m ─────────────────────────────────────────────────\u001b[0m\n"
            ]
          },
          "metadata": {},
          "output_type": "display_data"
        },
        {
          "data": {
            "text/html": [
              "<pre style=\"white-space:pre;overflow-x:auto;line-height:normal;font-family:Menlo,'DejaVu Sans Mono',consolas,'Courier New',monospace\"><span style=\"color: #00ff00; text-decoration-color: #00ff00\">───────────────────────────────────────────────── </span><span style=\"color: #008000; text-decoration-color: #008000\">Room Transition</span><span style=\"color: #00ff00; text-decoration-color: #00ff00\"> ─────────────────────────────────────────────────</span>\n",
              "</pre>\n"
            ],
            "text/plain": [
              "\u001b[92m───────────────────────────────────────────────── \u001b[0m\u001b[32mRoom Transition\u001b[0m\u001b[92m ─────────────────────────────────────────────────\u001b[0m\n"
            ]
          },
          "metadata": {},
          "output_type": "display_data"
        },
        {
          "data": {
            "text/html": [
              "<pre style=\"white-space:pre;overflow-x:auto;line-height:normal;font-family:Menlo,'DejaVu Sans Mono',consolas,'Courier New',monospace\"><span style=\"color: #00ff00; text-decoration-color: #00ff00\">───────────────────────────────────────────────── </span><span style=\"color: #008000; text-decoration-color: #008000\">Room Transition</span><span style=\"color: #00ff00; text-decoration-color: #00ff00\"> ─────────────────────────────────────────────────</span>\n",
              "</pre>\n"
            ],
            "text/plain": [
              "\u001b[92m───────────────────────────────────────────────── \u001b[0m\u001b[32mRoom Transition\u001b[0m\u001b[92m ─────────────────────────────────────────────────\u001b[0m\n"
            ]
          },
          "metadata": {},
          "output_type": "display_data"
        },
        {
          "data": {
            "text/html": [
              "<pre style=\"white-space:pre;overflow-x:auto;line-height:normal;font-family:Menlo,'DejaVu Sans Mono',consolas,'Courier New',monospace\"><span style=\"color: #00ff00; text-decoration-color: #00ff00\">───────────────────────────────────────────────── </span><span style=\"color: #008000; text-decoration-color: #008000\">Room Transition</span><span style=\"color: #00ff00; text-decoration-color: #00ff00\"> ─────────────────────────────────────────────────</span>\n",
              "</pre>\n"
            ],
            "text/plain": [
              "\u001b[92m───────────────────────────────────────────────── \u001b[0m\u001b[32mRoom Transition\u001b[0m\u001b[92m ─────────────────────────────────────────────────\u001b[0m\n"
            ]
          },
          "metadata": {},
          "output_type": "display_data"
        },
        {
          "data": {
            "text/html": [
              "<pre style=\"white-space:pre;overflow-x:auto;line-height:normal;font-family:Menlo,'DejaVu Sans Mono',consolas,'Courier New',monospace\"><span style=\"color: #00ff00; text-decoration-color: #00ff00\">───────────────────────────────────────────────── </span><span style=\"color: #008000; text-decoration-color: #008000\">Room Transition</span><span style=\"color: #00ff00; text-decoration-color: #00ff00\"> ─────────────────────────────────────────────────</span>\n",
              "</pre>\n"
            ],
            "text/plain": [
              "\u001b[92m───────────────────────────────────────────────── \u001b[0m\u001b[32mRoom Transition\u001b[0m\u001b[92m ─────────────────────────────────────────────────\u001b[0m\n"
            ]
          },
          "metadata": {},
          "output_type": "display_data"
        },
        {
          "data": {
            "text/html": [
              "<pre style=\"white-space:pre;overflow-x:auto;line-height:normal;font-family:Menlo,'DejaVu Sans Mono',consolas,'Courier New',monospace\"><span style=\"color: #00ff00; text-decoration-color: #00ff00\">───────────────────────────────────────────────── </span><span style=\"color: #008000; text-decoration-color: #008000\">Room Transition</span><span style=\"color: #00ff00; text-decoration-color: #00ff00\"> ─────────────────────────────────────────────────</span>\n",
              "</pre>\n"
            ],
            "text/plain": [
              "\u001b[92m───────────────────────────────────────────────── \u001b[0m\u001b[32mRoom Transition\u001b[0m\u001b[92m ─────────────────────────────────────────────────\u001b[0m\n"
            ]
          },
          "metadata": {},
          "output_type": "display_data"
        },
        {
          "data": {
            "text/html": [
              "<pre style=\"white-space:pre;overflow-x:auto;line-height:normal;font-family:Menlo,'DejaVu Sans Mono',consolas,'Courier New',monospace\"><span style=\"color: #00ff00; text-decoration-color: #00ff00\">───────────────────────────────────────────────── </span><span style=\"color: #008000; text-decoration-color: #008000\">Room Transition</span><span style=\"color: #00ff00; text-decoration-color: #00ff00\"> ─────────────────────────────────────────────────</span>\n",
              "</pre>\n"
            ],
            "text/plain": [
              "\u001b[92m───────────────────────────────────────────────── \u001b[0m\u001b[32mRoom Transition\u001b[0m\u001b[92m ─────────────────────────────────────────────────\u001b[0m\n"
            ]
          },
          "metadata": {},
          "output_type": "display_data"
        },
        {
          "data": {
            "text/html": [
              "<pre style=\"white-space:pre;overflow-x:auto;line-height:normal;font-family:Menlo,'DejaVu Sans Mono',consolas,'Courier New',monospace\"><span style=\"color: #00ff00; text-decoration-color: #00ff00\">───────────────────────────────────────────────── </span><span style=\"color: #008000; text-decoration-color: #008000\">Room Transition</span><span style=\"color: #00ff00; text-decoration-color: #00ff00\"> ─────────────────────────────────────────────────</span>\n",
              "</pre>\n"
            ],
            "text/plain": [
              "\u001b[92m───────────────────────────────────────────────── \u001b[0m\u001b[32mRoom Transition\u001b[0m\u001b[92m ─────────────────────────────────────────────────\u001b[0m\n"
            ]
          },
          "metadata": {},
          "output_type": "display_data"
        },
        {
          "data": {
            "text/html": [
              "<pre style=\"white-space:pre;overflow-x:auto;line-height:normal;font-family:Menlo,'DejaVu Sans Mono',consolas,'Courier New',monospace\"><span style=\"color: #00ff00; text-decoration-color: #00ff00\">───────────────────────────────────────────────── </span><span style=\"color: #008000; text-decoration-color: #008000\">Room Transition</span><span style=\"color: #00ff00; text-decoration-color: #00ff00\"> ─────────────────────────────────────────────────</span>\n",
              "</pre>\n"
            ],
            "text/plain": [
              "\u001b[92m───────────────────────────────────────────────── \u001b[0m\u001b[32mRoom Transition\u001b[0m\u001b[92m ─────────────────────────────────────────────────\u001b[0m\n"
            ]
          },
          "metadata": {},
          "output_type": "display_data"
        }
      ],
      "source": [
        "game_state = INIT_GAME_STATE.copy()\n",
        "\n",
        "start_game()"
      ]
    }
  ],
  "metadata": {
    "colab": {
      "provenance": []
    },
    "kernelspec": {
      "display_name": "base",
      "language": "python",
      "name": "python3"
    },
    "language_info": {
      "codemirror_mode": {
        "name": "ipython",
        "version": 3
      },
      "file_extension": ".py",
      "mimetype": "text/x-python",
      "name": "python",
      "nbconvert_exporter": "python",
      "pygments_lexer": "ipython3",
      "version": "3.13.5"
    }
  },
  "nbformat": 4,
  "nbformat_minor": 0
}
